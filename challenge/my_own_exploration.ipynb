{
 "cells": [
  {
   "cell_type": "markdown",
   "metadata": {},
   "source": [
    "### 1. Importar librerías y cargar datos "
   ]
  },
  {
   "cell_type": "code",
   "execution_count": 374,
   "metadata": {},
   "outputs": [],
   "source": [
    "import numpy as np\n",
    "import pandas as pd\n",
    "import warnings\n",
    "import pickle\n",
    "import xgboost as xgb\n",
    "from datetime import datetime\n",
    "from sklearn.model_selection import train_test_split\n",
    "\n",
    "warnings.filterwarnings('ignore')\n",
    "\n",
    "# Cargar datos\n",
    "data = pd.read_csv('../data/data.csv')\n"
   ]
  },
  {
   "cell_type": "markdown",
   "metadata": {},
   "source": [
    "### 2: División en datos de entrenamiento y de inferencia "
   ]
  },
  {
   "cell_type": "code",
   "execution_count": 375,
   "metadata": {},
   "outputs": [],
   "source": [
    "# Mezclar los datos antes de dividir\n",
    "data_sample = data.sample(frac=1, random_state=42).reset_index(drop=True)\n",
    "\n",
    "# División en 80% train y 20% inferencia\n",
    "train_size = int(0.8 * len(data_sample))\n",
    "data_train = data_sample.iloc[:train_size].copy()  # 80% entrenamiento\n",
    "data_inf = data_sample.iloc[train_size:].copy()  # 20% inferencia\n"
   ]
  },
  {
   "cell_type": "markdown",
   "metadata": {},
   "source": [
    "### 3: Feature Engineering (Aplicado a Train e Inferencia)"
   ]
  },
  {
   "cell_type": "code",
   "execution_count": 376,
   "metadata": {},
   "outputs": [],
   "source": [
    "# Función para obtener el periodo del día\n",
    "def get_period_day(date):\n",
    "    date_time = datetime.strptime(date, '%Y-%m-%d %H:%M:%S').time()\n",
    "    \n",
    "    if datetime.strptime(\"05:00\", '%H:%M').time() <= date_time <= datetime.strptime(\"11:59\", '%H:%M').time():\n",
    "        return 'mañana'\n",
    "    elif datetime.strptime(\"12:00\", '%H:%M').time() <= date_time <= datetime.strptime(\"18:59\", '%H:%M').time():\n",
    "        return 'tarde'\n",
    "    else:\n",
    "        return 'noche'\n",
    "\n",
    "# Función para determinar si es temporada alta\n",
    "def is_high_season(fecha):\n",
    "    fecha_año = int(fecha.split('-')[0])\n",
    "    fecha = datetime.strptime(fecha, '%Y-%m-%d %H:%M:%S')\n",
    "    \n",
    "    ranges = [\n",
    "        (datetime.strptime('15-Dec', '%d-%b'), datetime.strptime('31-Dec', '%d-%b')),\n",
    "        (datetime.strptime('1-Jan', '%d-%b'), datetime.strptime('3-Mar', '%d-%b')),\n",
    "        (datetime.strptime('15-Jul', '%d-%b'), datetime.strptime('31-Jul', '%d-%b')),\n",
    "        (datetime.strptime('11-Sep', '%d-%b'), datetime.strptime('30-Sep', '%d-%b'))\n",
    "    ]\n",
    "    \n",
    "    for r_min, r_max in ranges:\n",
    "        if r_min.replace(year=fecha_año) <= fecha <= r_max.replace(year=fecha_año):\n",
    "            return 1\n",
    "    return 0\n",
    "\n",
    "# Función para calcular la diferencia en minutos\n",
    "def get_min_diff(row):\n",
    "    fecha_o = datetime.strptime(row['Fecha-O'], '%Y-%m-%d %H:%M:%S')\n",
    "    fecha_i = datetime.strptime(row['Fecha-I'], '%Y-%m-%d %H:%M:%S')\n",
    "    return (fecha_o - fecha_i).total_seconds() / 60\n",
    "\n",
    "# Aplicar Feature Engineering a Train e Inferencia\n",
    "for df in [data_train, data_inf]:\n",
    "    df['period_day'] = df['Fecha-I'].apply(get_period_day)\n",
    "    df['high_season'] = df['Fecha-I'].apply(is_high_season)\n",
    "    df['min_diff'] = df.apply(get_min_diff, axis=1)\n",
    "    df['delay'] = np.where(df['min_diff'] > 15, 1, 0)"
   ]
  },
  {
   "cell_type": "markdown",
   "metadata": {},
   "source": [
    "### 4: Preparar los datos para XGBoost"
   ]
  },
  {
   "cell_type": "code",
   "execution_count": 377,
   "metadata": {},
   "outputs": [],
   "source": [
    "# Crear variables dummy para entrenamiento\n",
    "features_train = pd.concat([\n",
    "    pd.get_dummies(data_train['OPERA'], prefix='OPERA'),\n",
    "    pd.get_dummies(data_train['TIPOVUELO'], prefix='TIPOVUELO'), \n",
    "    pd.get_dummies(data_train['MES'], prefix='MES')\n",
    "], axis=1)\n",
    "\n",
    "target_train = data_train['delay']\n",
    "\n",
    "# Dividir en train y test\n",
    "x_train, x_test, y_train, y_test = train_test_split(features_train, target_train, test_size=0.33, random_state=42)"
   ]
  },
  {
   "cell_type": "markdown",
   "metadata": {},
   "source": [
    "### 5: Entrenar XGBoost y guardar el modelo"
   ]
  },
  {
   "cell_type": "code",
   "execution_count": 378,
   "metadata": {},
   "outputs": [],
   "source": [
    "# Calcular el balance de clases\n",
    "n_y0 = len(y_train[y_train == 0])\n",
    "n_y1 = len(y_train[y_train == 1])\n",
    "scale = n_y0 / n_y1\n",
    "\n",
    "# Entrenar el modelo con balanceo de clases\n",
    "xgb_model = xgb.XGBClassifier(random_state=1, learning_rate=0.01, scale_pos_weight=scale)\n",
    "xgb_model.fit(x_train, y_train)\n",
    "\n",
    "# Guardar el modelo\n",
    "with open(\"xgb_model.pkl\", \"wb\") as file:\n",
    "    pickle.dump(xgb_model, file)\n"
   ]
  },
  {
   "cell_type": "markdown",
   "metadata": {},
   "source": [
    "### Paso 6: Feature Engineering para Inferencia"
   ]
  },
  {
   "cell_type": "code",
   "execution_count": 379,
   "metadata": {},
   "outputs": [],
   "source": [
    "# Crear variables dummy para inferencia\n",
    "features_inf = pd.concat([\n",
    "    pd.get_dummies(data_inf['OPERA'], prefix='OPERA'),\n",
    "    pd.get_dummies(data_inf['TIPOVUELO'], prefix='TIPOVUELO'), \n",
    "    pd.get_dummies(data_inf['MES'], prefix='MES')\n",
    "], axis=1)\n",
    "\n",
    "# Asegurar que las columnas en inferencia sean las mismas que en entrenamiento\n",
    "features_inf = features_inf.reindex(columns=x_train.columns, fill_value=0)\n"
   ]
  },
  {
   "cell_type": "markdown",
   "metadata": {},
   "source": [
    "### 7: Inferencia con el modelo guardado"
   ]
  },
  {
   "cell_type": "code",
   "execution_count": 380,
   "metadata": {},
   "outputs": [
    {
     "data": {
      "text/html": [
       "<div>\n",
       "<style scoped>\n",
       "    .dataframe tbody tr th:only-of-type {\n",
       "        vertical-align: middle;\n",
       "    }\n",
       "\n",
       "    .dataframe tbody tr th {\n",
       "        vertical-align: top;\n",
       "    }\n",
       "\n",
       "    .dataframe thead th {\n",
       "        text-align: right;\n",
       "    }\n",
       "</style>\n",
       "<table border=\"1\" class=\"dataframe\">\n",
       "  <thead>\n",
       "    <tr style=\"text-align: right;\">\n",
       "      <th></th>\n",
       "      <th>Fecha-I</th>\n",
       "      <th>OPERA</th>\n",
       "      <th>SIGLADES</th>\n",
       "      <th>TIPOVUELO</th>\n",
       "      <th>predicted_delay</th>\n",
       "    </tr>\n",
       "  </thead>\n",
       "  <tbody>\n",
       "    <tr>\n",
       "      <th>54564</th>\n",
       "      <td>2017-01-11 18:00:00</td>\n",
       "      <td>Grupo LATAM</td>\n",
       "      <td>Concepcion</td>\n",
       "      <td>N</td>\n",
       "      <td>0</td>\n",
       "    </tr>\n",
       "    <tr>\n",
       "      <th>54565</th>\n",
       "      <td>2017-11-14 12:04:00</td>\n",
       "      <td>Grupo LATAM</td>\n",
       "      <td>Antofagasta</td>\n",
       "      <td>N</td>\n",
       "      <td>0</td>\n",
       "    </tr>\n",
       "    <tr>\n",
       "      <th>54566</th>\n",
       "      <td>2017-09-05 11:00:00</td>\n",
       "      <td>Grupo LATAM</td>\n",
       "      <td>Punta Arenas</td>\n",
       "      <td>N</td>\n",
       "      <td>0</td>\n",
       "    </tr>\n",
       "    <tr>\n",
       "      <th>54567</th>\n",
       "      <td>2017-12-18 20:30:00</td>\n",
       "      <td>Grupo LATAM</td>\n",
       "      <td>Calama</td>\n",
       "      <td>N</td>\n",
       "      <td>0</td>\n",
       "    </tr>\n",
       "    <tr>\n",
       "      <th>54568</th>\n",
       "      <td>2017-12-27 12:17:00</td>\n",
       "      <td>JetSmart SPA</td>\n",
       "      <td>Copiapo</td>\n",
       "      <td>N</td>\n",
       "      <td>1</td>\n",
       "    </tr>\n",
       "  </tbody>\n",
       "</table>\n",
       "</div>"
      ],
      "text/plain": [
       "                   Fecha-I         OPERA      SIGLADES TIPOVUELO  \\\n",
       "54564  2017-01-11 18:00:00   Grupo LATAM    Concepcion         N   \n",
       "54565  2017-11-14 12:04:00   Grupo LATAM   Antofagasta         N   \n",
       "54566  2017-09-05 11:00:00   Grupo LATAM  Punta Arenas         N   \n",
       "54567  2017-12-18 20:30:00   Grupo LATAM        Calama         N   \n",
       "54568  2017-12-27 12:17:00  JetSmart SPA       Copiapo         N   \n",
       "\n",
       "       predicted_delay  \n",
       "54564                0  \n",
       "54565                0  \n",
       "54566                0  \n",
       "54567                0  \n",
       "54568                1  "
      ]
     },
     "execution_count": 380,
     "metadata": {},
     "output_type": "execute_result"
    }
   ],
   "source": [
    "# Cargar el modelo guardado\n",
    "with open(\"xgb_model.pkl\", \"rb\") as file:\n",
    "    loaded_xgb_model = pickle.load(file)\n",
    "\n",
    "# Hacer predicciones en inferencia\n",
    "y_pred_inf = loaded_xgb_model.predict(features_inf)\n",
    "\n",
    "# Agregar la predicción a los datos de inferencia\n",
    "data_inf['predicted_delay'] = y_pred_inf\n",
    "\n",
    "# Mostrar algunas predicciones\n",
    "data_inf[['Fecha-I', 'OPERA', 'SIGLADES', 'TIPOVUELO', 'predicted_delay']].head()\n"
   ]
  }
 ],
 "metadata": {
  "kernelspec": {
   "display_name": "venv-note",
   "language": "python",
   "name": "python3"
  },
  "language_info": {
   "codemirror_mode": {
    "name": "ipython",
    "version": 3
   },
   "file_extension": ".py",
   "mimetype": "text/x-python",
   "name": "python",
   "nbconvert_exporter": "python",
   "pygments_lexer": "ipython3",
   "version": "3.8.18"
  },
  "orig_nbformat": 4
 },
 "nbformat": 4,
 "nbformat_minor": 2
}
